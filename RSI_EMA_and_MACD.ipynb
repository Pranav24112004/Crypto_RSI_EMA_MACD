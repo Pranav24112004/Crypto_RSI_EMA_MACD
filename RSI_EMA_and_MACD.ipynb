{
  "nbformat": 4,
  "nbformat_minor": 0,
  "metadata": {
    "colab": {
      "provenance": [],
      "gpuType": "T4"
    },
    "kernelspec": {
      "name": "python3",
      "display_name": "Python 3"
    },
    "language_info": {
      "name": "python"
    },
    "accelerator": "GPU"
  },
  "cells": [
    {
      "cell_type": "markdown",
      "source": [
        "Simply run the code on google colab or on juypter notebook to see the results."
      ],
      "metadata": {
        "id": "Va7Xij2QAp2K"
      }
    },
    {
      "cell_type": "code",
      "source": [
        "import requests\n",
        "import pandas as pd\n",
        "import time\n",
        "import numpy as np"
      ],
      "metadata": {
        "id": "InbSZUDvZAg4"
      },
      "execution_count": 100,
      "outputs": []
    },
    {
      "cell_type": "markdown",
      "source": [
        "The reason why I have used ccxt instead of binance is beacuse the binance has blocked access from our region.\n",
        "\n",
        "\n",
        "---\n",
        "\n",
        "I got this reply after running the code for getting the data\n",
        "\n",
        "Error: 451\n",
        "\"Service unavailable from a restricted location...\n"
      ],
      "metadata": {
        "id": "iCOaIWcM1IoH"
      }
    },
    {
      "cell_type": "code",
      "source": [
        "def fetch_cryptocompare_ohlc(symbol='BTC', tsym='USDT', limit=2000, total=5000):\n",
        "    base_url = 'https://min-api.cryptocompare.com/data/v2/histominute'\n",
        "    all_data = []\n",
        "    toTs = int(time.time())\n",
        "\n",
        "    while len(all_data) < total:\n",
        "        batch_limit = min(limit, total - len(all_data)) - 1\n",
        "        params = {\n",
        "            'fsym': symbol,\n",
        "            'tsym': tsym,\n",
        "            'limit': batch_limit,\n",
        "            'toTs': toTs\n",
        "        }\n",
        "        response = requests.get(base_url, params=params)\n",
        "        data = response.json()\n",
        "\n",
        "        if data['Response'] != 'Success':\n",
        "            raise Exception(f\"API Error: {data}\")\n",
        "\n",
        "        batch = data['Data']['Data']\n",
        "        if not batch:\n",
        "            break\n",
        "\n",
        "        all_data = batch + all_data\n",
        "        toTs = batch[0]['time'] - 1\n",
        "        time.sleep(0.25)\n",
        "\n",
        "    df = pd.DataFrame(all_data)\n",
        "    df['time'] = pd.to_datetime(df['time'], unit='s')\n",
        "    df.set_index('time', inplace=True)\n",
        "\n",
        "    df['time'] = df.index\n",
        "\n",
        "    df = df[['time', 'open', 'high', 'low', 'close', 'volumefrom', 'volumeto']]\n",
        "\n",
        "    return df\n",
        "\n",
        "# Usage\n",
        "df = fetch_cryptocompare_ohlc()\n",
        "print(df.tail())"
      ],
      "metadata": {
        "colab": {
          "base_uri": "https://localhost:8080/"
        },
        "id": "kawSMejvN97Z",
        "outputId": "ebc62e11-f56d-4618-b400-094424b2dc4f"
      },
      "execution_count": 101,
      "outputs": [
        {
          "output_type": "stream",
          "name": "stdout",
          "text": [
            "                                   time       open       high        low  \\\n",
            "time                                                                       \n",
            "2025-06-03 18:13:00 2025-06-03 18:13:00  105649.38  105693.07  105649.38   \n",
            "2025-06-03 18:14:00 2025-06-03 18:14:00  105686.84  105686.84  105662.39   \n",
            "2025-06-03 18:15:00 2025-06-03 18:15:00  105664.15  105664.15  105613.79   \n",
            "2025-06-03 18:16:00 2025-06-03 18:16:00  105625.56  105636.97  105599.87   \n",
            "2025-06-03 18:17:00 2025-06-03 18:17:00  105605.57  105614.85  105605.57   \n",
            "\n",
            "                         close  volumefrom    volumeto  \n",
            "time                                                    \n",
            "2025-06-03 18:13:00  105686.84       20.19  2133712.16  \n",
            "2025-06-03 18:14:00  105664.15       15.44  1631230.60  \n",
            "2025-06-03 18:15:00  105625.56       33.74  3563684.41  \n",
            "2025-06-03 18:16:00  105605.57       25.33  2674840.66  \n",
            "2025-06-03 18:17:00  105614.85        0.00        0.00  \n"
          ]
        }
      ]
    },
    {
      "cell_type": "code",
      "source": [
        "df.columns"
      ],
      "metadata": {
        "colab": {
          "base_uri": "https://localhost:8080/"
        },
        "id": "k-elSIyk48xO",
        "outputId": "2e2ec892-ba3d-40a6-fa31-84518f2456a5"
      },
      "execution_count": 102,
      "outputs": [
        {
          "output_type": "execute_result",
          "data": {
            "text/plain": [
              "Index(['time', 'open', 'high', 'low', 'close', 'volumefrom', 'volumeto'], dtype='object')"
            ]
          },
          "metadata": {},
          "execution_count": 102
        }
      ]
    },
    {
      "cell_type": "code",
      "source": [
        "def real_time_rsi_ema_strategy(df):\n",
        "    N_EMA = 21\n",
        "    N_RSI = 14\n",
        "    alpha_ema = 2 / (N_EMA + 1)\n",
        "    ema_list = [np.nan] * len(df)\n",
        "    rsi_list = [np.nan] * len(df)\n",
        "    gain_list = []\n",
        "    loss_list = []\n",
        "    in_position = False\n",
        "    trades = []\n",
        "    ema_prev = None\n",
        "    avg_gain = None\n",
        "    avg_loss = None\n",
        "\n",
        "    for i in range(len(df)):\n",
        "        close = df.iloc[i]['close']\n",
        "\n",
        "        # === EMA Calculation ===\n",
        "        if i >= N_EMA - 1:\n",
        "            if i == N_EMA - 1:\n",
        "                sma = df.iloc[i - N_EMA + 1:i + 1]['close'].mean()\n",
        "                ema = sma\n",
        "            else:\n",
        "                ema = alpha_ema * close + (1 - alpha_ema) * ema_prev\n",
        "            ema_list[i] = ema\n",
        "            ema_prev = ema\n",
        "\n",
        "        # === RSI Calculation ===\n",
        "        if i == 0:\n",
        "            change = np.nan\n",
        "        else:\n",
        "            change = close - df.iloc[i - 1]['close']\n",
        "\n",
        "        gain = max(change, 0) if not np.isnan(change) else 0\n",
        "        loss = -min(change, 0) if not np.isnan(change) else 0\n",
        "        gain_list.append(gain)\n",
        "        loss_list.append(loss)\n",
        "\n",
        "        if i >= N_RSI:\n",
        "            if i == N_RSI:\n",
        "                avg_gain = np.mean(gain_list[i - N_RSI + 1:i + 1])\n",
        "                avg_loss = np.mean(loss_list[i - N_RSI + 1:i + 1])\n",
        "            else:\n",
        "                avg_gain = (avg_gain * (N_RSI - 1) + gain) / N_RSI\n",
        "                avg_loss = (avg_loss * (N_RSI - 1) + loss) / N_RSI\n",
        "\n",
        "            rs = avg_gain / avg_loss if avg_loss != 0 else np.inf\n",
        "            rsi = 100 - (100 / (1 + rs))\n",
        "            rsi_list[i] = rsi\n",
        "\n",
        "        # === Trading Logic ===\n",
        "        if i < max(N_EMA, N_RSI):\n",
        "            continue\n",
        "\n",
        "        rsi_val = rsi_list[i]\n",
        "        ema_val = ema_list[i]\n",
        "        time_val = df.iloc[i]['time']\n",
        "\n",
        "        if pd.isna(rsi_val) or pd.isna(ema_val):\n",
        "            continue\n",
        "\n",
        "        # Entry Condition\n",
        "        if not in_position:\n",
        "            if rsi_val >= 30 and close > ema_val:\n",
        "                entry_price = close\n",
        "                entry_time = time_val\n",
        "                in_position = True\n",
        "\n",
        "        # Exit Condition\n",
        "        elif in_position:\n",
        "            if rsi_val >= 70 or close < ema_val:\n",
        "                exit_price = close\n",
        "                exit_time = time_val\n",
        "                pnl = exit_price - entry_price\n",
        "                trades.append({\n",
        "                    'Entry Time': entry_time,\n",
        "                    'Entry Price': entry_price,\n",
        "                    'Exit Time': exit_time,\n",
        "                    'Exit Price': exit_price,\n",
        "                    'Strategy': 'RSI_EMA',\n",
        "                    'PnL': pnl,\n",
        "                    'Status': 'Closed'\n",
        "                })\n",
        "                in_position = False\n",
        "\n",
        "    df['EMA_21'] = ema_list\n",
        "    df['RSI_14'] = rsi_list\n",
        "\n",
        "    # Return updated DataFrame and trade log\n",
        "    return df, pd.DataFrame(trades)"
      ],
      "metadata": {
        "id": "VpCAPGups2UA"
      },
      "execution_count": 103,
      "outputs": []
    },
    {
      "cell_type": "code",
      "source": [
        "df, trade_summary = real_time_rsi_ema_strategy(df)\n",
        "print(trade_summary)"
      ],
      "metadata": {
        "colab": {
          "base_uri": "https://localhost:8080/"
        },
        "id": "h_7cMWPZwXCo",
        "outputId": "fc506bdb-6de5-4a01-8d78-b92eac5fb370"
      },
      "execution_count": 104,
      "outputs": [
        {
          "output_type": "stream",
          "name": "stdout",
          "text": [
            "             Entry Time  Entry Price           Exit Time  Exit Price Strategy  \\\n",
            "0   2025-05-31 07:31:00    103736.82 2025-05-31 07:37:00   103739.18  RSI_EMA   \n",
            "1   2025-05-31 07:42:00    103742.40 2025-05-31 07:43:00   103703.24  RSI_EMA   \n",
            "2   2025-05-31 07:52:00    103723.92 2025-05-31 08:07:00   103720.16  RSI_EMA   \n",
            "3   2025-05-31 08:23:00    103643.09 2025-05-31 08:34:00   103665.97  RSI_EMA   \n",
            "4   2025-05-31 08:46:00    103622.20 2025-05-31 08:59:00   103652.30  RSI_EMA   \n",
            "..                  ...          ...                 ...         ...      ...   \n",
            "467 2025-06-03 16:31:00    106397.07 2025-06-03 16:36:00   106375.89  RSI_EMA   \n",
            "468 2025-06-03 17:10:00    105998.09 2025-06-03 17:11:00   105961.00  RSI_EMA   \n",
            "469 2025-06-03 17:18:00    105972.59 2025-06-03 17:30:00   105926.23  RSI_EMA   \n",
            "470 2025-06-03 17:51:00    105915.36 2025-06-03 17:52:00   105862.51  RSI_EMA   \n",
            "471 2025-06-03 17:55:00    105941.88 2025-06-03 18:01:00   105841.94  RSI_EMA   \n",
            "\n",
            "       PnL  Status  \n",
            "0     2.36  Closed  \n",
            "1   -39.16  Closed  \n",
            "2    -3.76  Closed  \n",
            "3    22.88  Closed  \n",
            "4    30.10  Closed  \n",
            "..     ...     ...  \n",
            "467 -21.18  Closed  \n",
            "468 -37.09  Closed  \n",
            "469 -46.36  Closed  \n",
            "470 -52.85  Closed  \n",
            "471 -99.94  Closed  \n",
            "\n",
            "[472 rows x 7 columns]\n"
          ]
        }
      ]
    },
    {
      "cell_type": "code",
      "source": [
        "def real_time_ema_crossover(df):\n",
        "    N1 = 5\n",
        "    N2 = 20\n",
        "    alpha_5 = 2 / (N1 + 1)\n",
        "    alpha_20 = 2 / (N2 + 1)\n",
        "\n",
        "    ema5_list = [np.nan] * len(df)\n",
        "    ema20_list = [np.nan] * len(df)\n",
        "\n",
        "    trades = []\n",
        "    in_position = False\n",
        "    entry_time = entry_price = None\n",
        "\n",
        "    ema5_prev = None\n",
        "    ema20_prev = None\n",
        "\n",
        "    for i in range(len(df)):\n",
        "        close = df.iloc[i]['close']\n",
        "\n",
        "        # === EMA-5 Calculation ===\n",
        "        if i >= N1 - 1:\n",
        "            if i == N1 - 1:\n",
        "                ema5 = df.iloc[i - N1 + 1:i + 1]['close'].mean()\n",
        "            else:\n",
        "                ema5 = alpha_5 * close + (1 - alpha_5) * ema5_prev\n",
        "            ema5_list[i] = ema5\n",
        "            ema5_prev = ema5\n",
        "\n",
        "        # === EMA-20 Calculation ===\n",
        "        if i >= N2 - 1:\n",
        "            if i == N2 - 1:\n",
        "                ema20 = df.iloc[i - N2 + 1:i + 1]['close'].mean()\n",
        "            else:\n",
        "                ema20 = alpha_20 * close + (1 - alpha_20) * ema20_prev\n",
        "            ema20_list[i] = ema20\n",
        "            ema20_prev = ema20\n",
        "\n",
        "        # Skip till both EMAs are available\n",
        "        if i < N2:\n",
        "            continue\n",
        "\n",
        "        prev_ema5 = ema5_list[i - 1]\n",
        "        prev_ema20 = ema20_list[i - 1]\n",
        "        curr_ema5 = ema5_list[i]\n",
        "        curr_ema20 = ema20_list[i]\n",
        "\n",
        "        if any(pd.isna([prev_ema5, prev_ema20, curr_ema5, curr_ema20])):\n",
        "            continue\n",
        "\n",
        "        time_val = df.iloc[i]['time']\n",
        "\n",
        "        # === Entry Condition ===\n",
        "        if not in_position and (prev_ema5 < prev_ema20) and (curr_ema5 > curr_ema20):\n",
        "            in_position = True\n",
        "            entry_time = time_val\n",
        "            entry_price = close\n",
        "\n",
        "        # === Exit Condition ===\n",
        "        elif in_position and (prev_ema5 > prev_ema20) and (curr_ema5 < curr_ema20):\n",
        "            exit_time = time_val\n",
        "            exit_price = close\n",
        "            pnl = exit_price - entry_price\n",
        "            trades.append({\n",
        "                'Entry Time': entry_time,\n",
        "                'Entry Price': entry_price,\n",
        "                'Exit Time': exit_time,\n",
        "                'Exit Price': exit_price,\n",
        "                'Strategy': 'MACD_EMA_Crossover',\n",
        "                'PnL': pnl,\n",
        "                'Status': 'Closed'\n",
        "            })\n",
        "            in_position = False\n",
        "            entry_time = entry_price = None\n",
        "\n",
        "    # If still in position at the end\n",
        "    if in_position:\n",
        "        trades.append({\n",
        "            'Entry Time': entry_time,\n",
        "            'Entry Price': entry_price,\n",
        "            'Exit Time': None,\n",
        "            'Exit Price': None,\n",
        "            'Strategy': 'MACD_EMA_Crossover',\n",
        "            'PnL': None,\n",
        "            'Status': 'Open'\n",
        "        })\n",
        "\n",
        "    df['EMA_5'] = ema5_list\n",
        "    df['EMA_20'] = ema20_list\n",
        "\n",
        "    return df, pd.DataFrame(trades)"
      ],
      "metadata": {
        "id": "o72yjBj3wdYi"
      },
      "execution_count": 105,
      "outputs": []
    },
    {
      "cell_type": "code",
      "source": [
        "df, trade_summary = real_time_ema_crossover(df)\n",
        "print(trade_summary)"
      ],
      "metadata": {
        "colab": {
          "base_uri": "https://localhost:8080/"
        },
        "id": "v6Znlibpx8pR",
        "outputId": "041737fc-f961-4827-d93d-3215dadff775"
      },
      "execution_count": 106,
      "outputs": [
        {
          "output_type": "stream",
          "name": "stdout",
          "text": [
            "             Entry Time  Entry Price           Exit Time  Exit Price  \\\n",
            "0   2025-05-31 07:32:00    103755.47 2025-05-31 07:41:00   103730.21   \n",
            "1   2025-05-31 07:42:00    103742.40 2025-05-31 07:43:00   103703.24   \n",
            "2   2025-05-31 07:54:00    103821.30 2025-05-31 08:08:00   103738.21   \n",
            "3   2025-05-31 08:25:00    103698.47 2025-05-31 08:36:00   103604.40   \n",
            "4   2025-05-31 08:47:00    103684.93 2025-05-31 09:01:00   103646.44   \n",
            "..                  ...          ...                 ...         ...   \n",
            "144 2025-06-03 15:35:00    106665.08 2025-06-03 15:46:00   106588.84   \n",
            "145 2025-06-03 15:57:00    106641.11 2025-06-03 16:01:00   106512.23   \n",
            "146 2025-06-03 16:16:00    106511.57 2025-06-03 16:18:00   106427.97   \n",
            "147 2025-06-03 17:20:00    106050.85 2025-06-03 17:30:00   105926.23   \n",
            "148 2025-06-03 17:55:00    105941.88 2025-06-03 18:01:00   105841.94   \n",
            "\n",
            "               Strategy     PnL  Status  \n",
            "0    MACD_EMA_Crossover  -25.26  Closed  \n",
            "1    MACD_EMA_Crossover  -39.16  Closed  \n",
            "2    MACD_EMA_Crossover  -83.09  Closed  \n",
            "3    MACD_EMA_Crossover  -94.07  Closed  \n",
            "4    MACD_EMA_Crossover  -38.49  Closed  \n",
            "..                  ...     ...     ...  \n",
            "144  MACD_EMA_Crossover  -76.24  Closed  \n",
            "145  MACD_EMA_Crossover -128.88  Closed  \n",
            "146  MACD_EMA_Crossover  -83.60  Closed  \n",
            "147  MACD_EMA_Crossover -124.62  Closed  \n",
            "148  MACD_EMA_Crossover  -99.94  Closed  \n",
            "\n",
            "[149 rows x 7 columns]\n"
          ]
        }
      ]
    },
    {
      "cell_type": "code",
      "source": [],
      "metadata": {
        "id": "8DkZ3vzsx-ED"
      },
      "execution_count": null,
      "outputs": []
    }
  ]
}